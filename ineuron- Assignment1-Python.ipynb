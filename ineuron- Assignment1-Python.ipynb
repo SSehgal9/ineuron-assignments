{
 "cells": [
  {
   "cell_type": "markdown",
   "metadata": {},
   "source": [
    "'''\n",
    "2. Problem Statement\n",
    "Task 1:\n",
    "1.\n",
    "Install Jupyter notebook and run the first program and share the screenshot of the output.\n",
    "LINK\n",
    "2.\n",
    "Write a program which will find all such numbers which are divisible by 7 but are not a multiple\n",
    "of 5, between 2000 and 3200 (both included). The numbers obtained should be printed in a\n",
    "comma-separated sequence on a single line.\n",
    "3.\n",
    "Write a Python program to accept the user's first and last name and then getting them printed in\n",
    "the the reverse order with a space between first name and last name.\n",
    "\n",
    "'''"
   ]
  },
  {
   "cell_type": "code",
   "execution_count": 44,
   "metadata": {},
   "outputs": [],
   "source": [
    "'''\n",
    "2.\n",
    "Write a program which will find all such numbers which are divisible by 7 but are not a multiple\n",
    "of 5, between 2000 and 3200 (both included). The numbers obtained should be printed in a\n",
    "comma-separated sequence on a single line.\n",
    "'''\n",
    "\n",
    "\n",
    "def div7not5(a,b):\n",
    "    input_range = range(a,b+1)\n",
    "    result =[]\n",
    "    for i in input_range:\n",
    "        if i%5 != 0 and i%7 == 0 :\n",
    "            #print(i)\n",
    "            result.append(i)\n",
    "    print(result)"
   ]
  },
  {
   "cell_type": "code",
   "execution_count": 43,
   "metadata": {},
   "outputs": [
    {
     "name": "stdout",
     "output_type": "stream",
     "text": [
      "[2002, 2009, 2016, 2023, 2037, 2044, 2051, 2058, 2072, 2079, 2086, 2093, 2107, 2114, 2121, 2128, 2142, 2149, 2156, 2163, 2177, 2184, 2191, 2198, 2212, 2219, 2226, 2233, 2247, 2254, 2261, 2268, 2282, 2289, 2296, 2303, 2317, 2324, 2331, 2338, 2352, 2359, 2366, 2373, 2387, 2394, 2401, 2408, 2422, 2429, 2436, 2443, 2457, 2464, 2471, 2478, 2492, 2499, 2506, 2513, 2527, 2534, 2541, 2548, 2562, 2569, 2576, 2583, 2597, 2604, 2611, 2618, 2632, 2639, 2646, 2653, 2667, 2674, 2681, 2688, 2702, 2709, 2716, 2723, 2737, 2744, 2751, 2758, 2772, 2779, 2786, 2793, 2807, 2814, 2821, 2828, 2842, 2849, 2856, 2863, 2877, 2884, 2891, 2898, 2912, 2919, 2926, 2933, 2947, 2954, 2961, 2968, 2982, 2989, 2996, 3003, 3017, 3024, 3031, 3038, 3052, 3059, 3066, 3073, 3087, 3094, 3101, 3108, 3122, 3129, 3136, 3143, 3157, 3164, 3171, 3178, 3192, 3199]\n"
     ]
    }
   ],
   "source": [
    "div7not5(2000,3200)"
   ]
  },
  {
   "cell_type": "code",
   "execution_count": 58,
   "metadata": {},
   "outputs": [],
   "source": [
    "'''\n",
    "3.\n",
    "Write a Python program to accept the user's first and last name and then getting them printed in\n",
    "the the reverse order with a space between first name and last name.\n",
    "\n",
    "'''\n",
    "\n",
    "def reverse_name(name):\n",
    "    namelist = name.split()[::-1]\n",
    "    print(namelist)\n",
    "    "
   ]
  },
  {
   "cell_type": "code",
   "execution_count": 61,
   "metadata": {},
   "outputs": [
    {
     "name": "stdout",
     "output_type": "stream",
     "text": [
      "['Travolta', 'John']\n"
     ]
    }
   ],
   "source": [
    "reverse_name(\"John Travolta\")"
   ]
  },
  {
   "cell_type": "code",
   "execution_count": 63,
   "metadata": {},
   "outputs": [],
   "source": [
    "'''\n",
    "4.\n",
    "Write a Python program to find the volume of a sphere with diameter 12 cm.\n",
    "Formula: V=4/3 * π * r\n",
    "\n",
    "'''\n",
    "def sphere_vol(dia):\n",
    "    pi = 3.14\n",
    "    return (4/3)*pi*(dia/2)"
   ]
  },
  {
   "cell_type": "code",
   "execution_count": 65,
   "metadata": {},
   "outputs": [
    {
     "data": {
      "text/plain": [
       "8.373333333333333"
      ]
     },
     "execution_count": 65,
     "metadata": {},
     "output_type": "execute_result"
    }
   ],
   "source": [
    "sphere_vol(4)"
   ]
  },
  {
   "cell_type": "code",
   "execution_count": 161,
   "metadata": {},
   "outputs": [],
   "source": [
    "'''\n",
    "1.\n",
    "Write a program which accepts a sequence of comma-separated numbers from console and\n",
    "generate a list.\n",
    "'''\n",
    "\n",
    "def printlist():\n",
    "    inputlist = input(\"Please enter the list of comma separated value\")\n",
    "    inputlist.split(',')\n",
    "    print(list(inputlist.split(',')))"
   ]
  },
  {
   "cell_type": "code",
   "execution_count": 162,
   "metadata": {},
   "outputs": [
    {
     "name": "stdout",
     "output_type": "stream",
     "text": [
      "Please enter the list of comma separated value2,3,4,5,6\n",
      "['2', '3', '4', '5', '6']\n"
     ]
    }
   ],
   "source": [
    "printlist()"
   ]
  },
  {
   "cell_type": "markdown",
   "metadata": {},
   "source": [
    "'''\n",
    "2.\n",
    "Create the below pattern using nested for loop in Python.\n",
    "*\n",
    "* *\n",
    "* * *\n",
    "* * * *\n",
    "* * * * *\n",
    "* * * *\n",
    "* * *\n",
    "* *\n",
    "*\n",
    "'''\n",
    "def print_pattern():\n",
    "    patternsize = int(input(\"Please enter integer for pattern\"))\n",
    "    pattern_design = \"*\"\n",
    "    l = list(range(1,patternsize))\n",
    "    l_rev = list(range(patternsize,0,-1))\n",
    "    #l_rev = l[::-1]\n",
    "    if patternsize%2 !=0 or patternsize%2 ==0:\n",
    "        for i in l:\n",
    "            print(i*pattern_design)\n",
    "        for i in l_rev:\n",
    "            print(i*pattern_design)\n",
    "        print(patternsize)\n",
    "    \n",
    "    "
   ]
  },
  {
   "cell_type": "code",
   "execution_count": 149,
   "metadata": {},
   "outputs": [],
   "source": [
    "'''\n",
    "2.\n",
    "Create the below pattern using nested for loop in Python.\n",
    "*\n",
    "* *\n",
    "* * *\n",
    "* * * *\n",
    "* * * * *\n",
    "* * * *\n",
    "* * *\n",
    "* *\n",
    "*\n",
    "'''\n",
    "def print_pattern():\n",
    "    patternsize = int(input(\"Please enter integer for pattern\"))\n",
    "    pattern_design = \"*\"\n",
    "    l = list(range(1,patternsize))\n",
    "    l_rev = list(range(patternsize,0,-1))\n",
    "    m =0\n",
    "    #l_rev = l[::-1]\n",
    "    for i in l:\n",
    "        m +=1\n",
    "        print(' '.join(i*pattern_design))\n",
    "        if m == patternsize-1:\n",
    "            for j in l_rev:\n",
    "                print(' '.join(j*pattern_design))\n",
    "    #print(patternsize)"
   ]
  },
  {
   "cell_type": "code",
   "execution_count": 150,
   "metadata": {},
   "outputs": [
    {
     "name": "stdout",
     "output_type": "stream",
     "text": [
      "Please enter integer for pattern6\n",
      "*\n",
      "* *\n",
      "* * *\n",
      "* * * *\n",
      "* * * * *\n",
      "* * * * * *\n",
      "* * * * *\n",
      "* * * *\n",
      "* * *\n",
      "* *\n",
      "*\n"
     ]
    }
   ],
   "source": [
    "print_pattern()\n"
   ]
  },
  {
   "cell_type": "code",
   "execution_count": 109,
   "metadata": {},
   "outputs": [],
   "source": [
    "'''\n",
    "3.\n",
    "Write a Python program to reverse a word after accepting the input from the user.\n",
    "Sample Output:\n",
    "Input word: AcadGild\n",
    "Output: dilGdacA\n",
    "'''\n",
    "\n",
    "def rev_string():\n",
    "    inputstring = input(\"please input your word\")\n",
    "    return inputstring[::-1]"
   ]
  },
  {
   "cell_type": "code",
   "execution_count": 110,
   "metadata": {},
   "outputs": [
    {
     "name": "stdout",
     "output_type": "stream",
     "text": [
      "please input your wordAcadGild\n"
     ]
    },
    {
     "data": {
      "text/plain": [
       "'dliGdacA'"
      ]
     },
     "execution_count": 110,
     "metadata": {},
     "output_type": "execute_result"
    }
   ],
   "source": [
    "rev_string()"
   ]
  },
  {
   "cell_type": "code",
   "execution_count": null,
   "metadata": {},
   "outputs": [],
   "source": [
    "'''\n",
    "4.\n",
    "Write a Python Program to print the given string in the format specified in the sample output.\n",
    "WE, THE PEOPLE OF INDIA, having solemnly resolved to constitute India into a\n",
    "SOVEREIGN, SOCIALIST, SECULAR, DEMOCRATIC REPUBLIC and to secure to all\n",
    "its citizens\n",
    "Sample Output:\n",
    "WE, THE PEOPLE OF INDIA,\n",
    "having solemnly resolved to constitute India into a SOVEREIGN, !\n",
    "SOCIALIST, SECULAR, DEMOCRATIC REPUBLIC\n",
    "and to secure to all its citizens\n",
    "NOTE: The solution shared through Github should contain the source code used  and\n",
    "the screenshot of the output.\n",
    "\n",
    "'''\n",
    "\n",
    "def parse_statement(statement):\n",
    "    st = #statement\n",
    "    print(st.split(\"INDIA,\") + \"INDIA,\"\\n"
   ]
  },
  {
   "cell_type": "code",
   "execution_count": 160,
   "metadata": {},
   "outputs": [
    {
     "name": "stdout",
     "output_type": "stream",
     "text": [
      "WE, THE PEOPLE OF INDIA,\n",
      "        having solemnly resolved to constitute India into a SOVEREIGN, !\n",
      "                SOCIALIST, SECULAR, DEMOCRATIC REPUBLIC\n",
      "                 and to secure to all its citizens\n"
     ]
    }
   ],
   "source": [
    "s = '''WE, THE PEOPLE OF INDIA, having solemnly resolved to constitute India into a SOVEREIGN, SOCIALIST, SECULAR, DEMOCRATIC REPUBLIC and to secure to all its citizens'''\n",
    "str1 = ''\n",
    "strIndia = \"\"\n",
    "for i in s:\n",
    "    #print(str(s.split(i)[0]) + \" \" + i)\n",
    "    str1 += i\n",
    "    if str1.find(\"INDIA,\")>0:\n",
    "        print(str1)\n",
    "        str1 =\"\"\n",
    "    if str1.find(\"SOVEREIGN,\")>0:\n",
    "        tstr = \"\\t\"+str1.lstrip()\n",
    "        print(tstr.expandtabs() + \" !\")\n",
    "        str1 =\"\"\n",
    "    if str1.find(\"REPUBLIC\")>0:\n",
    "        tstr2 = \"\\t\"*2+str1.lstrip()\n",
    "        print(tstr2.expandtabs())\n",
    "        str1 =\"\"\n",
    "    if str1.find(\"citizens\")>0:\n",
    "        tstr3 = \"\\t\"*2 + \" \"+str1.lstrip()\n",
    "        print(tstr3.expandtabs())\n",
    "    \n",
    "#print(str1)\n",
    "#print(str1.find(\"INDIA,\"))\n",
    "#s.split(\"INDIA,\")[0] # + \"INDIA,\"\n",
    "#ss = s.split(\"INDIA,\")[0]\n",
    "\n",
    "##help(ss.splitlines)\n"
   ]
  },
  {
   "cell_type": "code",
   "execution_count": 157,
   "metadata": {},
   "outputs": [
    {
     "name": "stdout",
     "output_type": "stream",
     "text": [
      "WE, THE PEOPLE OF  INDIA,\n",
      "        having solemnly resolved to constitute India into a  SOVEREIGN,!\n",
      "                SOCIALIST, SECULAR, DEMOCRATIC  REPUBLIC\n",
      "                 and to secure to all its citizens\n"
     ]
    }
   ],
   "source": [
    "s = '''WE, THE PEOPLE OF INDIA, having solemnly resolved to constitute India into a SOVEREIGN, SOCIALIST, SECULAR, DEMOCRATIC REPUBLIC and to secure to all its citizens'''\n",
    "tup = s.partition(\"INDIA,\")\n",
    "p = tup[0]+\" \" +tup[1]\n",
    "print(p)\n",
    "tup2 = tup[2].partition(\"SOVEREIGN,\")\n",
    "p = \"\\t\" + tup2[0].lstrip() +\" \" +tup2[1] + \"!\"\n",
    "print(p.expandtabs())\n",
    "tup3 = tup2[2].partition(\"REPUBLIC\")\n",
    "p = \"\\t\"*2 + tup3[0].lstrip()+\" \" +tup3[1]\n",
    "print(p.expandtabs())\n",
    "p = \"\\t\"*2 +\" \" + tup3[2].lstrip()\n",
    "print(p.expandtabs())\n"
   ]
  },
  {
   "cell_type": "code",
   "execution_count": null,
   "metadata": {},
   "outputs": [],
   "source": [
    "'''\n",
    "1.\n",
    "Write a program which accepts a sequence of comma-separated numbers from console and\n",
    "generate a list.\n",
    "2.\n",
    "Create the below pattern using nested for loop in Python.\n",
    "*\n",
    "* *\n",
    "* * *\n",
    "* * * *\n",
    "* * * * *\n",
    "* * * *\n",
    "* * *\n",
    "* *\n",
    "*\n",
    "\n",
    "3.\n",
    "Write a Python program to reverse a word after accepting the input from the user.\n",
    "Sample Output:\n",
    "Input word: AcadGild\n",
    "Output: dilGdacA\n",
    "\n",
    "4.\n",
    "Write a Python Program to print the given string in the format specified in the sample output.\n",
    "WE, THE PEOPLE OF INDIA, having solemnly resolved to constitute India into a\n",
    "SOVEREIGN, SOCIALIST, SECULAR, DEMOCRATIC REPUBLIC and to secure to all\n",
    "its citizens\n",
    "Sample Output:\n",
    "WE, THE PEOPLE OF INDIA,\n",
    "having solemnly resolved to constitute India into a SOVEREIGN, !\n",
    "SOCIALIST, SECULAR, DEMOCRATIC REPUBLIC\n",
    "and to secure to all its citizens\n",
    "NOTE: The solution shared through Github should contain the source code used  and\n",
    "the screenshot of the output.\n",
    "\n",
    "'''"
   ]
  }
 ],
 "metadata": {
  "kernelspec": {
   "display_name": "Python 3",
   "language": "python",
   "name": "python3"
  },
  "language_info": {
   "codemirror_mode": {
    "name": "ipython",
    "version": 3
   },
   "file_extension": ".py",
   "mimetype": "text/x-python",
   "name": "python",
   "nbconvert_exporter": "python",
   "pygments_lexer": "ipython3",
   "version": "3.7.4"
  }
 },
 "nbformat": 4,
 "nbformat_minor": 4
}
