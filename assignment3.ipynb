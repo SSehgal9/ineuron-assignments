{
 "cells": [
  {
   "cell_type": "code",
   "execution_count": null,
   "metadata": {},
   "outputs": [],
   "source": [
    "'''\n",
    "1.\n",
    "Write a function to compute 5/0 and use try/except to catch the exceptions.\n",
    "2.\n",
    "Implement a Python program to generate all sentences where subject is in [\"Americans\",\n",
    "\"Indians\"] and verb is in [\"Play\", \"watch\"] and the object is in [\"Baseball\",\"cricket\"].\n",
    "Hint: Subject,Verb and Object should be declared in the program as shown below.\n",
    "subjects=[\"Americans \",\"Indians\"]\n",
    "verbs=[\"play\",\"watch\"]\n",
    "objects=[\"Baseball\",\"Cricket\"]\n",
    "Output should come as below:\n",
    "Americans play Baseball.\n",
    "Americans play Cricket.\n",
    "Americans watch Baseball.\n",
    "Americans watch Cricket.\n",
    "Indians play Baseball.\n",
    "Indians play Cricket.\n",
    "Indians watch Baseball.\n",
    "Indians watch Cricket.\n",
    "\n",
    "'''"
   ]
  },
  {
   "cell_type": "code",
   "execution_count": null,
   "metadata": {},
   "outputs": [],
   "source": [
    "def computediv():\n",
    "        while True:\n",
    "            try:\n",
    "                getnum = int(input(\"Please enter numerator: \"))\n",
    "                getden = int(input(\"Please enter denominator: \"))\n",
    "                result = getnum/getden\n",
    "            except ZeroDivisionError as e:\n",
    "                print(\"Error Encountered\" , e)\n",
    "                print(\"Divison by Zero is not allowed. Please re-enter the denominator\")\n",
    "                continue\n",
    "            except Exception as e2:\n",
    "                print(\"Error Encountered: \", e2)\n",
    "                print(\"Please check Numerator or Denominator\")\n",
    "            else:\n",
    "                print(result)\n",
    "                break\n",
    "\n",
    "\n",
    "        "
   ]
  },
  {
   "cell_type": "code",
   "execution_count": null,
   "metadata": {},
   "outputs": [],
   "source": []
  },
  {
   "cell_type": "code",
   "execution_count": null,
   "metadata": {},
   "outputs": [],
   "source": [
    "computediv()"
   ]
  },
  {
   "cell_type": "code",
   "execution_count": null,
   "metadata": {},
   "outputs": [],
   "source": [
    "def sentences():\n",
    "    subject = [\"Americans\",\"Indians\"] \n",
    "    verb = [\"Play\", \"watch\"] \n",
    "    obj = [\"Baseball\",\"cricket\"]\n",
    "    try:\n",
    "        for i in subject:\n",
    "            for j in verb:\n",
    "                for k in obj:\n",
    "                    print(i + \" \" +  j + \" \"  +k)\n",
    "    except Exception as e:\n",
    "        print(e)"
   ]
  },
  {
   "cell_type": "code",
   "execution_count": null,
   "metadata": {},
   "outputs": [],
   "source": [
    "sentences()"
   ]
  },
  {
   "cell_type": "code",
   "execution_count": 4,
   "metadata": {},
   "outputs": [],
   "source": [
    "class subject:\n",
    "    def __init__(self,subject):\n",
    "        self.subject = subject\n",
    "    def __str__(self):\n",
    "        return \"%s, %s.\"%(self.subject[0], self.subject[1])\n",
    "class verb:\n",
    "    def __init__(self,verb):\n",
    "        self.verb = verb\n",
    "    def __str__(self):\n",
    "        return \"%s, %s.\"%(self.verb[0], self.verb[1])\n",
    "class obj:\n",
    "    def __init__(self,obj):\n",
    "        self.obj = obj\n",
    "    def __str__(self):\n",
    "        j=\"\"\n",
    "        for i in range(len(self.obj)):\n",
    "            j = j + ' ' + self.obj[i] \n",
    "            i = i+1\n",
    "        return j    "
   ]
  },
  {
   "cell_type": "code",
   "execution_count": null,
   "metadata": {},
   "outputs": [],
   "source": [
    "\n",
    "    "
   ]
  },
  {
   "cell_type": "code",
   "execution_count": null,
   "metadata": {},
   "outputs": [],
   "source": []
  },
  {
   "cell_type": "code",
   "execution_count": null,
   "metadata": {},
   "outputs": [],
   "source": [
    "s = subject(\"Americans\")"
   ]
  },
  {
   "cell_type": "code",
   "execution_count": null,
   "metadata": {},
   "outputs": [],
   "source": [
    "print(s)"
   ]
  },
  {
   "cell_type": "code",
   "execution_count": 5,
   "metadata": {},
   "outputs": [],
   "source": [
    "s = subject(['Americans','Indians'])"
   ]
  },
  {
   "cell_type": "code",
   "execution_count": null,
   "metadata": {},
   "outputs": [],
   "source": [
    "print(s)"
   ]
  },
  {
   "cell_type": "code",
   "execution_count": 6,
   "metadata": {},
   "outputs": [],
   "source": [
    "o = obj([\"Cricket\",\"Football\"])"
   ]
  },
  {
   "cell_type": "code",
   "execution_count": null,
   "metadata": {},
   "outputs": [],
   "source": [
    "print(o)"
   ]
  },
  {
   "cell_type": "code",
   "execution_count": 8,
   "metadata": {},
   "outputs": [],
   "source": [
    "class sent():\n",
    "    def __init__(self,s,v,o):\n",
    "        self.s = s\n",
    "        self.v = v\n",
    "        self.o = o\n",
    "\n",
    "    def __str__(self):\n",
    "        r =''\n",
    "        for i in range(0,len(self.s)):\n",
    "            r = r + '' +self.s[i]\n",
    "                 \n",
    "        return r"
   ]
  },
  {
   "cell_type": "code",
   "execution_count": 7,
   "metadata": {},
   "outputs": [],
   "source": [
    "v = verb([\"play\",\"watch\"])"
   ]
  },
  {
   "cell_type": "code",
   "execution_count": null,
   "metadata": {},
   "outputs": [],
   "source": [
    "print(v)"
   ]
  },
  {
   "cell_type": "code",
   "execution_count": 9,
   "metadata": {},
   "outputs": [],
   "source": [
    "sen = sent(s,v,o)"
   ]
  },
  {
   "cell_type": "raw",
   "metadata": {},
   "source": [
    "sen"
   ]
  },
  {
   "cell_type": "code",
   "execution_count": null,
   "metadata": {},
   "outputs": [],
   "source": [
    "'''\n",
    "1.\n",
    "Write a function so that the columns of the output matrix are powers of the input vector.\n",
    "The order of the powers is determined by the increasing boolean argument. Specifically, when\n",
    "increasing is False, the i-th output column is the input vector raised element-wise to the power\n",
    "of N - i - 1.\n",
    "HINT: Such a matrix with a geometric progression in each row is named for AlexandreTheophile Vandermonde.\n",
    "NOTE: The solution shared through Github should contain the source code used and the\n",
    "screenshot of the output.\n",
    "\n",
    "\n",
    "'''"
   ]
  },
  {
   "cell_type": "code",
   "execution_count": null,
   "metadata": {},
   "outputs": [],
   "source": []
  }
 ],
 "metadata": {
  "kernelspec": {
   "display_name": "Python 3",
   "language": "python",
   "name": "python3"
  },
  "language_info": {
   "codemirror_mode": {
    "name": "ipython",
    "version": 3
   },
   "file_extension": ".py",
   "mimetype": "text/x-python",
   "name": "python",
   "nbconvert_exporter": "python",
   "pygments_lexer": "ipython3",
   "version": "3.7.4"
  }
 },
 "nbformat": 4,
 "nbformat_minor": 4
}
